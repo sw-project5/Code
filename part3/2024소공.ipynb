{
  "nbformat": 4,
  "nbformat_minor": 0,
  "metadata": {
    "colab": {
      "provenance": []
    },
    "kernelspec": {
      "name": "python3",
      "display_name": "Python 3"
    },
    "language_info": {
      "name": "python"
    }
  },
  "cells": [
    {
      "cell_type": "code",
      "execution_count": null,
      "metadata": {
        "colab": {
          "base_uri": "https://localhost:8080/",
          "height": 336
        },
        "id": "AIi-yFAT0g1d",
        "outputId": "e88ab1de-f66c-4600-adfd-6a006c0da5a9"
      },
      "outputs": [
        {
          "output_type": "error",
          "ename": "FileNotFoundError",
          "evalue": "[Errno 2] No such file or directory: 'db/단어장 파일.xlsx'",
          "traceback": [
            "\u001b[0;31m---------------------------------------------------------------------------\u001b[0m",
            "\u001b[0;31mFileNotFoundError\u001b[0m                         Traceback (most recent call last)",
            "\u001b[0;32m<ipython-input-1-f60ad69a2a69>\u001b[0m in \u001b[0;36m<cell line: 25>\u001b[0;34m()\u001b[0m\n\u001b[1;32m     23\u001b[0m \u001b[0;34m\u001b[0m\u001b[0m\n\u001b[1;32m     24\u001b[0m \u001b[0;31m# XLSX 파일을 JSON으로 변환하여 파일로 저장\u001b[0m\u001b[0;34m\u001b[0m\u001b[0;34m\u001b[0m\u001b[0m\n\u001b[0;32m---> 25\u001b[0;31m \u001b[0mxlsx_to_json\u001b[0m\u001b[0;34m(\u001b[0m\u001b[0minput_file_path\u001b[0m\u001b[0;34m,\u001b[0m \u001b[0moutput_file_path\u001b[0m\u001b[0;34m)\u001b[0m\u001b[0;34m\u001b[0m\u001b[0;34m\u001b[0m\u001b[0m\n\u001b[0m",
            "\u001b[0;32m<ipython-input-1-f60ad69a2a69>\u001b[0m in \u001b[0;36mxlsx_to_json\u001b[0;34m(file_path, output_file)\u001b[0m\n\u001b[1;32m      5\u001b[0m     \u001b[0;31m# pd.read_excel('경로/파일명/xlsx')\u001b[0m\u001b[0;34m\u001b[0m\u001b[0;34m\u001b[0m\u001b[0m\n\u001b[1;32m      6\u001b[0m     \u001b[0;31m# engine='openpyxl': 필수\u001b[0m\u001b[0;34m\u001b[0m\u001b[0;34m\u001b[0m\u001b[0m\n\u001b[0;32m----> 7\u001b[0;31m     \u001b[0mdf\u001b[0m \u001b[0;34m=\u001b[0m \u001b[0mpd\u001b[0m\u001b[0;34m.\u001b[0m\u001b[0mread_excel\u001b[0m\u001b[0;34m(\u001b[0m\u001b[0mfile_path\u001b[0m\u001b[0;34m,\u001b[0m \u001b[0mengine\u001b[0m\u001b[0;34m=\u001b[0m\u001b[0;34m'openpyxl'\u001b[0m\u001b[0;34m)\u001b[0m\u001b[0;34m\u001b[0m\u001b[0;34m\u001b[0m\u001b[0m\n\u001b[0m\u001b[1;32m      8\u001b[0m \u001b[0;34m\u001b[0m\u001b[0m\n\u001b[1;32m      9\u001b[0m     \u001b[0;31m# JSON으로 변환\u001b[0m\u001b[0;34m\u001b[0m\u001b[0;34m\u001b[0m\u001b[0m\n",
            "\u001b[0;32m/usr/local/lib/python3.10/dist-packages/pandas/io/excel/_base.py\u001b[0m in \u001b[0;36mread_excel\u001b[0;34m(io, sheet_name, header, names, index_col, usecols, dtype, engine, converters, true_values, false_values, skiprows, nrows, na_values, keep_default_na, na_filter, verbose, parse_dates, date_parser, date_format, thousands, decimal, comment, skipfooter, storage_options, dtype_backend)\u001b[0m\n\u001b[1;32m    476\u001b[0m     \u001b[0;32mif\u001b[0m \u001b[0;32mnot\u001b[0m \u001b[0misinstance\u001b[0m\u001b[0;34m(\u001b[0m\u001b[0mio\u001b[0m\u001b[0;34m,\u001b[0m \u001b[0mExcelFile\u001b[0m\u001b[0;34m)\u001b[0m\u001b[0;34m:\u001b[0m\u001b[0;34m\u001b[0m\u001b[0;34m\u001b[0m\u001b[0m\n\u001b[1;32m    477\u001b[0m         \u001b[0mshould_close\u001b[0m \u001b[0;34m=\u001b[0m \u001b[0;32mTrue\u001b[0m\u001b[0;34m\u001b[0m\u001b[0;34m\u001b[0m\u001b[0m\n\u001b[0;32m--> 478\u001b[0;31m         \u001b[0mio\u001b[0m \u001b[0;34m=\u001b[0m \u001b[0mExcelFile\u001b[0m\u001b[0;34m(\u001b[0m\u001b[0mio\u001b[0m\u001b[0;34m,\u001b[0m \u001b[0mstorage_options\u001b[0m\u001b[0;34m=\u001b[0m\u001b[0mstorage_options\u001b[0m\u001b[0;34m,\u001b[0m \u001b[0mengine\u001b[0m\u001b[0;34m=\u001b[0m\u001b[0mengine\u001b[0m\u001b[0;34m)\u001b[0m\u001b[0;34m\u001b[0m\u001b[0;34m\u001b[0m\u001b[0m\n\u001b[0m\u001b[1;32m    479\u001b[0m     \u001b[0;32melif\u001b[0m \u001b[0mengine\u001b[0m \u001b[0;32mand\u001b[0m \u001b[0mengine\u001b[0m \u001b[0;34m!=\u001b[0m \u001b[0mio\u001b[0m\u001b[0;34m.\u001b[0m\u001b[0mengine\u001b[0m\u001b[0;34m:\u001b[0m\u001b[0;34m\u001b[0m\u001b[0;34m\u001b[0m\u001b[0m\n\u001b[1;32m    480\u001b[0m         raise ValueError(\n",
            "\u001b[0;32m/usr/local/lib/python3.10/dist-packages/pandas/io/excel/_base.py\u001b[0m in \u001b[0;36m__init__\u001b[0;34m(self, path_or_buffer, engine, storage_options)\u001b[0m\n\u001b[1;32m   1511\u001b[0m         \u001b[0mself\u001b[0m\u001b[0;34m.\u001b[0m\u001b[0mstorage_options\u001b[0m \u001b[0;34m=\u001b[0m \u001b[0mstorage_options\u001b[0m\u001b[0;34m\u001b[0m\u001b[0;34m\u001b[0m\u001b[0m\n\u001b[1;32m   1512\u001b[0m \u001b[0;34m\u001b[0m\u001b[0m\n\u001b[0;32m-> 1513\u001b[0;31m         \u001b[0mself\u001b[0m\u001b[0;34m.\u001b[0m\u001b[0m_reader\u001b[0m \u001b[0;34m=\u001b[0m \u001b[0mself\u001b[0m\u001b[0;34m.\u001b[0m\u001b[0m_engines\u001b[0m\u001b[0;34m[\u001b[0m\u001b[0mengine\u001b[0m\u001b[0;34m]\u001b[0m\u001b[0;34m(\u001b[0m\u001b[0mself\u001b[0m\u001b[0;34m.\u001b[0m\u001b[0m_io\u001b[0m\u001b[0;34m,\u001b[0m \u001b[0mstorage_options\u001b[0m\u001b[0;34m=\u001b[0m\u001b[0mstorage_options\u001b[0m\u001b[0;34m)\u001b[0m\u001b[0;34m\u001b[0m\u001b[0;34m\u001b[0m\u001b[0m\n\u001b[0m\u001b[1;32m   1514\u001b[0m \u001b[0;34m\u001b[0m\u001b[0m\n\u001b[1;32m   1515\u001b[0m     \u001b[0;32mdef\u001b[0m \u001b[0m__fspath__\u001b[0m\u001b[0;34m(\u001b[0m\u001b[0mself\u001b[0m\u001b[0;34m)\u001b[0m\u001b[0;34m:\u001b[0m\u001b[0;34m\u001b[0m\u001b[0;34m\u001b[0m\u001b[0m\n",
            "\u001b[0;32m/usr/local/lib/python3.10/dist-packages/pandas/io/excel/_openpyxl.py\u001b[0m in \u001b[0;36m__init__\u001b[0;34m(self, filepath_or_buffer, storage_options)\u001b[0m\n\u001b[1;32m    547\u001b[0m         \"\"\"\n\u001b[1;32m    548\u001b[0m         \u001b[0mimport_optional_dependency\u001b[0m\u001b[0;34m(\u001b[0m\u001b[0;34m\"openpyxl\"\u001b[0m\u001b[0;34m)\u001b[0m\u001b[0;34m\u001b[0m\u001b[0;34m\u001b[0m\u001b[0m\n\u001b[0;32m--> 549\u001b[0;31m         \u001b[0msuper\u001b[0m\u001b[0;34m(\u001b[0m\u001b[0;34m)\u001b[0m\u001b[0;34m.\u001b[0m\u001b[0m__init__\u001b[0m\u001b[0;34m(\u001b[0m\u001b[0mfilepath_or_buffer\u001b[0m\u001b[0;34m,\u001b[0m \u001b[0mstorage_options\u001b[0m\u001b[0;34m=\u001b[0m\u001b[0mstorage_options\u001b[0m\u001b[0;34m)\u001b[0m\u001b[0;34m\u001b[0m\u001b[0;34m\u001b[0m\u001b[0m\n\u001b[0m\u001b[1;32m    550\u001b[0m \u001b[0;34m\u001b[0m\u001b[0m\n\u001b[1;32m    551\u001b[0m     \u001b[0;34m@\u001b[0m\u001b[0mproperty\u001b[0m\u001b[0;34m\u001b[0m\u001b[0;34m\u001b[0m\u001b[0m\n",
            "\u001b[0;32m/usr/local/lib/python3.10/dist-packages/pandas/io/excel/_base.py\u001b[0m in \u001b[0;36m__init__\u001b[0;34m(self, filepath_or_buffer, storage_options)\u001b[0m\n\u001b[1;32m    528\u001b[0m         )\n\u001b[1;32m    529\u001b[0m         \u001b[0;32mif\u001b[0m \u001b[0;32mnot\u001b[0m \u001b[0misinstance\u001b[0m\u001b[0;34m(\u001b[0m\u001b[0mfilepath_or_buffer\u001b[0m\u001b[0;34m,\u001b[0m \u001b[0;34m(\u001b[0m\u001b[0mExcelFile\u001b[0m\u001b[0;34m,\u001b[0m \u001b[0mself\u001b[0m\u001b[0;34m.\u001b[0m\u001b[0m_workbook_class\u001b[0m\u001b[0;34m)\u001b[0m\u001b[0;34m)\u001b[0m\u001b[0;34m:\u001b[0m\u001b[0;34m\u001b[0m\u001b[0;34m\u001b[0m\u001b[0m\n\u001b[0;32m--> 530\u001b[0;31m             self.handles = get_handle(\n\u001b[0m\u001b[1;32m    531\u001b[0m                 \u001b[0mfilepath_or_buffer\u001b[0m\u001b[0;34m,\u001b[0m \u001b[0;34m\"rb\"\u001b[0m\u001b[0;34m,\u001b[0m \u001b[0mstorage_options\u001b[0m\u001b[0;34m=\u001b[0m\u001b[0mstorage_options\u001b[0m\u001b[0;34m,\u001b[0m \u001b[0mis_text\u001b[0m\u001b[0;34m=\u001b[0m\u001b[0;32mFalse\u001b[0m\u001b[0;34m\u001b[0m\u001b[0;34m\u001b[0m\u001b[0m\n\u001b[1;32m    532\u001b[0m             )\n",
            "\u001b[0;32m/usr/local/lib/python3.10/dist-packages/pandas/io/common.py\u001b[0m in \u001b[0;36mget_handle\u001b[0;34m(path_or_buf, mode, encoding, compression, memory_map, is_text, errors, storage_options)\u001b[0m\n\u001b[1;32m    866\u001b[0m         \u001b[0;32melse\u001b[0m\u001b[0;34m:\u001b[0m\u001b[0;34m\u001b[0m\u001b[0;34m\u001b[0m\u001b[0m\n\u001b[1;32m    867\u001b[0m             \u001b[0;31m# Binary mode\u001b[0m\u001b[0;34m\u001b[0m\u001b[0;34m\u001b[0m\u001b[0m\n\u001b[0;32m--> 868\u001b[0;31m             \u001b[0mhandle\u001b[0m \u001b[0;34m=\u001b[0m \u001b[0mopen\u001b[0m\u001b[0;34m(\u001b[0m\u001b[0mhandle\u001b[0m\u001b[0;34m,\u001b[0m \u001b[0mioargs\u001b[0m\u001b[0;34m.\u001b[0m\u001b[0mmode\u001b[0m\u001b[0;34m)\u001b[0m\u001b[0;34m\u001b[0m\u001b[0;34m\u001b[0m\u001b[0m\n\u001b[0m\u001b[1;32m    869\u001b[0m         \u001b[0mhandles\u001b[0m\u001b[0;34m.\u001b[0m\u001b[0mappend\u001b[0m\u001b[0;34m(\u001b[0m\u001b[0mhandle\u001b[0m\u001b[0;34m)\u001b[0m\u001b[0;34m\u001b[0m\u001b[0;34m\u001b[0m\u001b[0m\n\u001b[1;32m    870\u001b[0m \u001b[0;34m\u001b[0m\u001b[0m\n",
            "\u001b[0;31mFileNotFoundError\u001b[0m: [Errno 2] No such file or directory: 'db/단어장 파일.xlsx'"
          ]
        }
      ],
      "source": [
        "import pandas as pd\n",
        "\n",
        "def xlsx_to_json(file_path, output_file):\n",
        "    # XLSX 파일을 DataFrame으로 읽기\n",
        "    # pd.read_excel('경로/파일명/xlsx')\n",
        "    # engine='openpyxl': 필수\n",
        "    df = pd.read_excel(file_path, engine='openpyxl')\n",
        "\n",
        "    # JSON으로 변환\n",
        "    # orient : JSON string format을 결정하는 방향\n",
        "    # orient='records'\n",
        "    # :한 행에 대해, {columns:value} 형태의 딕셔너리를 요소로 하는 리스트 형태\n",
        "    json_data = df.to_json(orient='records')\n",
        "\n",
        "    # JSON 데이터를 파일로 저장\n",
        "    # python에서 파일을 열고 JSON 데이터를 쓰는 작업\n",
        "    with open(output_file, 'w', encoding='utf-8') as f:\n",
        "        f.write(json_data)\n",
        "\n",
        "# 예시 파일 경로와 출력 파일 경로\n",
        "input_file_path = 'db/단어장 파일.xlsx'\n",
        "output_file_path = 'db/output_json.json'\n",
        "\n",
        "# XLSX 파일을 JSON으로 변환하여 파일로 저장\n",
        "xlsx_to_json(input_file_path, output_file_path)"
      ]
    },
    {
      "cell_type": "code",
      "source": [
        "import tkinter as tk\n",
        "from tkinter import messagebox\n",
        "\n",
        "# WordManager 클래스를 정의합니다.\n",
        "class WordManager:\n",
        "    def __init__(self, root):\n",
        "        self.root = root  # 메인 윈도우 객체를 저장합니다.\n",
        "        self.root.title(\"Word Manager\")  # 메인 윈도우의 타이틀을 설정합니다.\n",
        "\n",
        "        # 데이터 저장을 위한 딕셔너리\n",
        "        self.words = {}\n",
        "\n",
        "        # 'Word:' 라벨을 생성하고 그리드에 배치합니다.\n",
        "        tk.Label(root, text=\"Word:\").grid(row=0, column=0)\n",
        "        # 단어 입력을 위한 엔트리(텍스트 입력 필드)를 생성하고 그리드에 배치합니다.\n",
        "        self.word_entry = tk.Entry(root)\n",
        "        self.word_entry.grid(row=0, column=1)\n",
        "\n",
        "        # 'Remove Word' 버튼을 생성하고, 클릭 시 remove_word 메소드를 호출하도록 설정 후 그리드에 배치합니다.\n",
        "        tk.Button(root, text=\"Remove Word\", command=self.remove_word).grid(row=1, column=1)\n",
        "\n",
        "        # 단어 목록을 표시할 리스트 박스를 생성하고 그리드에 배치합니다.\n",
        "        self.words_listbox = tk.Listbox(root, height=8, width=50)\n",
        "        self.words_listbox.grid(row=2, column=0, columnspan=2)\n",
        "        # 리스트 박스를 초기화하는 메소드를 호출합니다.\n",
        "        self.refresh_words_listbox()\n",
        "\n",
        "    # 단어를 제거하는 메소드\n",
        "    def remove_word(self):\n",
        "        word = self.word_entry.get()  # 단어 입력 필드에서 텍스트를 가져옵니다.\n",
        "        if word in self.words:  # 해당 단어가 딕셔너리에 존재하는 경우\n",
        "            del self.words[word]  # 해당 단어를 딕셔너리에서 제거합니다.\n",
        "            self.refresh_words_listbox()  # 리스트 박스를 업데이트합니다.\n",
        "            self.word_entry.delete(0, tk.END)  # 단어 입력 필드를 초기화합니다.\n",
        "        else:\n",
        "            messagebox.showinfo(\"Warning\", \"Word not found\")  # 경고 메시지를 표시합니다.\n",
        "\n",
        "    # 리스트 박스 내용을 갱신하는 메소드\n",
        "    def refresh_words_listbox(self):\n",
        "        self.words_listbox.delete(0, tk.END)  # 기존 리스트 박스의 내용을 모두 삭제합니다.\n",
        "        for word, definition in self.words.items():  # 딕셔너리의 모든 항목을 반복합니다.\n",
        "            self.words_listbox.insert(tk.END, f\"{word}: {definition}\")  # 각 단어와 정의를 리스트 박스에 추가합니다.\n",
        "\n",
        "# 메인 실행 구문\n",
        "if __name__ == \"__main__\":\n",
        "    root = tk.Tk()  # 메인 윈도우를 생성합니다.\n",
        "    app = WordManager(root)  # WordManager 애플리케이션 인스턴스를 생성합니다.\n",
        "    root.mainloop()  # 이벤트 루프를 시작합니다.\n"
      ],
      "metadata": {
        "colab": {
          "base_uri": "https://localhost:8080/",
          "height": 349
        },
        "id": "IjziG_2d6VHb",
        "outputId": "7014b91b-0e17-4da5-aaab-c68490c02030"
      },
      "execution_count": null,
      "outputs": [
        {
          "output_type": "error",
          "ename": "TclError",
          "evalue": "no display name and no $DISPLAY environment variable",
          "traceback": [
            "\u001b[0;31m---------------------------------------------------------------------------\u001b[0m",
            "\u001b[0;31mTclError\u001b[0m                                  Traceback (most recent call last)",
            "\u001b[0;32m<ipython-input-2-e28412f67fca>\u001b[0m in \u001b[0;36m<cell line: 45>\u001b[0;34m()\u001b[0m\n\u001b[1;32m     44\u001b[0m \u001b[0;31m# 메인 실행 구문\u001b[0m\u001b[0;34m\u001b[0m\u001b[0;34m\u001b[0m\u001b[0m\n\u001b[1;32m     45\u001b[0m \u001b[0;32mif\u001b[0m \u001b[0m__name__\u001b[0m \u001b[0;34m==\u001b[0m \u001b[0;34m\"__main__\"\u001b[0m\u001b[0;34m:\u001b[0m\u001b[0;34m\u001b[0m\u001b[0;34m\u001b[0m\u001b[0m\n\u001b[0;32m---> 46\u001b[0;31m     \u001b[0mroot\u001b[0m \u001b[0;34m=\u001b[0m \u001b[0mtk\u001b[0m\u001b[0;34m.\u001b[0m\u001b[0mTk\u001b[0m\u001b[0;34m(\u001b[0m\u001b[0;34m)\u001b[0m  \u001b[0;31m# 메인 윈도우를 생성합니다.\u001b[0m\u001b[0;34m\u001b[0m\u001b[0;34m\u001b[0m\u001b[0m\n\u001b[0m\u001b[1;32m     47\u001b[0m     \u001b[0mapp\u001b[0m \u001b[0;34m=\u001b[0m \u001b[0mWordManager\u001b[0m\u001b[0;34m(\u001b[0m\u001b[0mroot\u001b[0m\u001b[0;34m)\u001b[0m  \u001b[0;31m# WordManager 애플리케이션 인스턴스를 생성합니다.\u001b[0m\u001b[0;34m\u001b[0m\u001b[0;34m\u001b[0m\u001b[0m\n\u001b[1;32m     48\u001b[0m     \u001b[0mroot\u001b[0m\u001b[0;34m.\u001b[0m\u001b[0mmainloop\u001b[0m\u001b[0;34m(\u001b[0m\u001b[0;34m)\u001b[0m  \u001b[0;31m# 이벤트 루프를 시작합니다.\u001b[0m\u001b[0;34m\u001b[0m\u001b[0;34m\u001b[0m\u001b[0m\n",
            "\u001b[0;32m/usr/lib/python3.10/tkinter/__init__.py\u001b[0m in \u001b[0;36m__init__\u001b[0;34m(self, screenName, baseName, className, useTk, sync, use)\u001b[0m\n\u001b[1;32m   2297\u001b[0m                 \u001b[0mbaseName\u001b[0m \u001b[0;34m=\u001b[0m \u001b[0mbaseName\u001b[0m \u001b[0;34m+\u001b[0m \u001b[0mext\u001b[0m\u001b[0;34m\u001b[0m\u001b[0;34m\u001b[0m\u001b[0m\n\u001b[1;32m   2298\u001b[0m         \u001b[0minteractive\u001b[0m \u001b[0;34m=\u001b[0m \u001b[0;32mFalse\u001b[0m\u001b[0;34m\u001b[0m\u001b[0;34m\u001b[0m\u001b[0m\n\u001b[0;32m-> 2299\u001b[0;31m         \u001b[0mself\u001b[0m\u001b[0;34m.\u001b[0m\u001b[0mtk\u001b[0m \u001b[0;34m=\u001b[0m \u001b[0m_tkinter\u001b[0m\u001b[0;34m.\u001b[0m\u001b[0mcreate\u001b[0m\u001b[0;34m(\u001b[0m\u001b[0mscreenName\u001b[0m\u001b[0;34m,\u001b[0m \u001b[0mbaseName\u001b[0m\u001b[0;34m,\u001b[0m \u001b[0mclassName\u001b[0m\u001b[0;34m,\u001b[0m \u001b[0minteractive\u001b[0m\u001b[0;34m,\u001b[0m \u001b[0mwantobjects\u001b[0m\u001b[0;34m,\u001b[0m \u001b[0museTk\u001b[0m\u001b[0;34m,\u001b[0m \u001b[0msync\u001b[0m\u001b[0;34m,\u001b[0m \u001b[0muse\u001b[0m\u001b[0;34m)\u001b[0m\u001b[0;34m\u001b[0m\u001b[0;34m\u001b[0m\u001b[0m\n\u001b[0m\u001b[1;32m   2300\u001b[0m         \u001b[0;32mif\u001b[0m \u001b[0museTk\u001b[0m\u001b[0;34m:\u001b[0m\u001b[0;34m\u001b[0m\u001b[0;34m\u001b[0m\u001b[0m\n\u001b[1;32m   2301\u001b[0m             \u001b[0mself\u001b[0m\u001b[0;34m.\u001b[0m\u001b[0m_loadtk\u001b[0m\u001b[0;34m(\u001b[0m\u001b[0;34m)\u001b[0m\u001b[0;34m\u001b[0m\u001b[0;34m\u001b[0m\u001b[0m\n",
            "\u001b[0;31mTclError\u001b[0m: no display name and no $DISPLAY environment variable"
          ]
        }
      ]
    },
    {
      "cell_type": "code",
      "source": [
        "import tkinter as tk\n",
        "from tkinter import messagebox\n",
        "\n",
        "# WordManager 클래스를 정의합니다.\n",
        "class WordManager:\n",
        "    def __init__(self, root):\n",
        "        self.root = root  # 메인 윈도우 객체를 저장합니다.\n",
        "        self.root.title(\"Word Manager\")  # 메인 윈도우의 타이틀을 설정합니다.\n",
        "\n",
        "        # 데이터 저장을 위한 딕셔너리\n",
        "        self.words = {}\n",
        "\n",
        "        # 'Word:' 라벨을 생성하고 그리드에 배치합니다.\n",
        "        tk.Label(root, text=\"Word:\").grid(row=0, column=0)\n",
        "        # 단어 입력을 위한 엔트리(텍스트 입력 필드)를 생성하고 그리드에 배치합니다.\n",
        "        self.word_entry = tk.Entry(root)\n",
        "        self.word_entry.grid(row=0, column=1)\n",
        "\n",
        "        # 'Definition:' 라벨을 생성하고 그리드에 배치합니다.\n",
        "        tk.Label(root, text=\"Definition:\").grid(row=1, column=0)\n",
        "        # 정의 입력을 위한 엔트리를 생성하고 그리드에 배치합니다.\n",
        "        self.definition_entry = tk.Entry(root)\n",
        "        self.definition_entry.grid(row=1, column=1)\n",
        "\n",
        "        # 'Update Word' 버튼을 생성하고, 클릭 시 update_word 메소드를 호출하도록 설정 후 그리드에 배치합니다.\n",
        "        tk.Button(root, text=\"Update Word\", command=self.update_word).grid(row=2, column=1)\n",
        "\n",
        "        # 단어 목록을 표시할 리스트 박스를 생성하고 그리드에 배치합니다.\n",
        "        self.words_listbox = tk.Listbox(root, height=8, width=50)\n",
        "        self.words_listbox.grid(row=3, column=0, columnspan=3)\n",
        "        # 리스트 박스를 초기화하는 메소드를 호출합니다.\n",
        "        self.refresh_words_listbox()\n",
        "\n",
        "    # 단어를 수정하는 메소드\n",
        "    def update_word(self):\n",
        "        word = self.word_entry.get()  # 단어 입력 필드에서 텍스트를 가져옵니다.\n",
        "        definition = self.definition_entry.get()  # 정의 입력 필드에서 텍스트를 가져옵니다.\n",
        "        if word in self.words:  # 해당 단어가 딕셔너리에 존재하는 경우\n",
        "            self.words[word] = definition  # 해당 단어의 정의를 업데이트합니다.\n",
        "            self.refresh_words_listbox()  # 리스트 박스를 업데이트합니다.\n",
        "            self.word_entry.delete(0, tk.END)  # 단어 입력 필드를 초기화합니다.\n",
        "            self.definition_entry.delete(0, tk.END)  # 정의 입력 필드를 초기화합니다.\n",
        "        else:\n",
        "            messagebox.showinfo(\"Warning\", \"Word not found to update\")  # 경고 메시지를 표시합니다.\n",
        "\n",
        "    # 리스트 박스 내용을 갱신하는 메소드\n",
        "    def refresh_words_listbox(self):\n",
        "        self.words_listbox.delete(0, tk.END)  # 기존 리스트 박스의 내용을 모두 삭제합니다.\n",
        "        for word, definition in self.words.items():  # 딕셔너리의 모든 항목을 반복합니다.\n",
        "            self.words_listbox.insert(tk.END, f\"{word}: {definition}\")  # 각 단어와 정의를 리스트 박스에 추가합니다.\n",
        "\n",
        "# 메인 실행 구문\n",
        "if __name__ == \"__main__\":\n",
        "    root = tk.Tk()  # 메인 윈도우를 생성합니다.\n",
        "    app = WordManager(root)  # WordManager 애플리케이션 인스턴스를 생성합니다.\n",
        "    root.mainloop()  # 이벤트 루프를 시작합니다.\n"
      ],
      "metadata": {
        "colab": {
          "base_uri": "https://localhost:8080/",
          "height": 349
        },
        "id": "eBo-CMc_6Xb_",
        "outputId": "8a33250e-242b-4d09-9f86-f55ab2387444"
      },
      "execution_count": null,
      "outputs": [
        {
          "output_type": "error",
          "ename": "TclError",
          "evalue": "no display name and no $DISPLAY environment variable",
          "traceback": [
            "\u001b[0;31m---------------------------------------------------------------------------\u001b[0m",
            "\u001b[0;31mTclError\u001b[0m                                  Traceback (most recent call last)",
            "\u001b[0;32m<ipython-input-3-6fbdd162bd80>\u001b[0m in \u001b[0;36m<cell line: 53>\u001b[0;34m()\u001b[0m\n\u001b[1;32m     52\u001b[0m \u001b[0;31m# 메인 실행 구문\u001b[0m\u001b[0;34m\u001b[0m\u001b[0;34m\u001b[0m\u001b[0m\n\u001b[1;32m     53\u001b[0m \u001b[0;32mif\u001b[0m \u001b[0m__name__\u001b[0m \u001b[0;34m==\u001b[0m \u001b[0;34m\"__main__\"\u001b[0m\u001b[0;34m:\u001b[0m\u001b[0;34m\u001b[0m\u001b[0;34m\u001b[0m\u001b[0m\n\u001b[0;32m---> 54\u001b[0;31m     \u001b[0mroot\u001b[0m \u001b[0;34m=\u001b[0m \u001b[0mtk\u001b[0m\u001b[0;34m.\u001b[0m\u001b[0mTk\u001b[0m\u001b[0;34m(\u001b[0m\u001b[0;34m)\u001b[0m  \u001b[0;31m# 메인 윈도우를 생성합니다.\u001b[0m\u001b[0;34m\u001b[0m\u001b[0;34m\u001b[0m\u001b[0m\n\u001b[0m\u001b[1;32m     55\u001b[0m     \u001b[0mapp\u001b[0m \u001b[0;34m=\u001b[0m \u001b[0mWordManager\u001b[0m\u001b[0;34m(\u001b[0m\u001b[0mroot\u001b[0m\u001b[0;34m)\u001b[0m  \u001b[0;31m# WordManager 애플리케이션 인스턴스를 생성합니다.\u001b[0m\u001b[0;34m\u001b[0m\u001b[0;34m\u001b[0m\u001b[0m\n\u001b[1;32m     56\u001b[0m     \u001b[0mroot\u001b[0m\u001b[0;34m.\u001b[0m\u001b[0mmainloop\u001b[0m\u001b[0;34m(\u001b[0m\u001b[0;34m)\u001b[0m  \u001b[0;31m# 이벤트 루프를 시작합니다.\u001b[0m\u001b[0;34m\u001b[0m\u001b[0;34m\u001b[0m\u001b[0m\n",
            "\u001b[0;32m/usr/lib/python3.10/tkinter/__init__.py\u001b[0m in \u001b[0;36m__init__\u001b[0;34m(self, screenName, baseName, className, useTk, sync, use)\u001b[0m\n\u001b[1;32m   2297\u001b[0m                 \u001b[0mbaseName\u001b[0m \u001b[0;34m=\u001b[0m \u001b[0mbaseName\u001b[0m \u001b[0;34m+\u001b[0m \u001b[0mext\u001b[0m\u001b[0;34m\u001b[0m\u001b[0;34m\u001b[0m\u001b[0m\n\u001b[1;32m   2298\u001b[0m         \u001b[0minteractive\u001b[0m \u001b[0;34m=\u001b[0m \u001b[0;32mFalse\u001b[0m\u001b[0;34m\u001b[0m\u001b[0;34m\u001b[0m\u001b[0m\n\u001b[0;32m-> 2299\u001b[0;31m         \u001b[0mself\u001b[0m\u001b[0;34m.\u001b[0m\u001b[0mtk\u001b[0m \u001b[0;34m=\u001b[0m \u001b[0m_tkinter\u001b[0m\u001b[0;34m.\u001b[0m\u001b[0mcreate\u001b[0m\u001b[0;34m(\u001b[0m\u001b[0mscreenName\u001b[0m\u001b[0;34m,\u001b[0m \u001b[0mbaseName\u001b[0m\u001b[0;34m,\u001b[0m \u001b[0mclassName\u001b[0m\u001b[0;34m,\u001b[0m \u001b[0minteractive\u001b[0m\u001b[0;34m,\u001b[0m \u001b[0mwantobjects\u001b[0m\u001b[0;34m,\u001b[0m \u001b[0museTk\u001b[0m\u001b[0;34m,\u001b[0m \u001b[0msync\u001b[0m\u001b[0;34m,\u001b[0m \u001b[0muse\u001b[0m\u001b[0;34m)\u001b[0m\u001b[0;34m\u001b[0m\u001b[0;34m\u001b[0m\u001b[0m\n\u001b[0m\u001b[1;32m   2300\u001b[0m         \u001b[0;32mif\u001b[0m \u001b[0museTk\u001b[0m\u001b[0;34m:\u001b[0m\u001b[0;34m\u001b[0m\u001b[0;34m\u001b[0m\u001b[0m\n\u001b[1;32m   2301\u001b[0m             \u001b[0mself\u001b[0m\u001b[0;34m.\u001b[0m\u001b[0m_loadtk\u001b[0m\u001b[0;34m(\u001b[0m\u001b[0;34m)\u001b[0m\u001b[0;34m\u001b[0m\u001b[0;34m\u001b[0m\u001b[0m\n",
            "\u001b[0;31mTclError\u001b[0m: no display name and no $DISPLAY environment variable"
          ]
        }
      ]
    },
    {
      "cell_type": "code",
      "source": [
        "import tkinter as tk\n",
        "from tkinter import messagebox\n",
        "\n",
        "class WordManager:\n",
        "    def __init__(self, root):\n",
        "        self.root = root\n",
        "        self.root.title(\"단어 관리자\")\n",
        "\n",
        "        self.words = {}\n",
        "\n",
        "        tk.Label(root, text=\"단어:\").grid(row=0, column=0)\n",
        "        self.word_entry = tk.Entry(root)\n",
        "        self.word_entry.grid(row=0, column=1)\n",
        "\n",
        "        tk.Label(root, text=\"정의:\").grid(row=1, column=0)\n",
        "        self.definition_entry = tk.Entry(root)\n",
        "        self.definition_entry.grid(row=1, column=1)\n",
        "\n",
        "        # '단어 추가' 버튼을 추가합니다.\n",
        "        tk.Button(root, text=\"단어 추가\", command=self.add_word).grid(row=2, column=0)\n",
        "        tk.Button(root, text=\"단어 업데이트\", command=self.update_word).grid(row=2, column=1)\n",
        "\n",
        "        self.words_listbox = tk.Listbox(root, height=8, width=50)\n",
        "        self.words_listbox.grid(row=3, column=0, columnspan=3)\n",
        "        self.refresh_words_listbox()\n",
        "\n",
        "    def add_word(self):\n",
        "        word = self.word_entry.get()\n",
        "        definition = self.definition_entry.get()\n",
        "        if word and definition:  # 단어와 정의 모두 입력되었는지 확인합니다.\n",
        "            if word not in self.words:  # 단어가 이미 존재하지 않는 경우 추가합니다.\n",
        "                self.words[word] = definition\n",
        "                self.refresh_words_listbox()\n",
        "                messagebox.showinfo(\"성공\", \"단어가 성공적으로 추가되었습니다.\")\n",
        "                self.word_entry.delete(0, tk.END)\n",
        "                self.definition_entry.delete(0, tk.END)\n",
        "            else:\n",
        "                messagebox.showinfo(\"경고\", \"이미 존재하는 단어입니다.\")\n",
        "        else:\n",
        "            messagebox.showinfo(\"경고\", \"단어와 정의를 모두 입력해주세요.\")\n",
        "\n",
        "    def update_word(self):\n",
        "        word = self.word_entry.get()\n",
        "        definition = self.definition_entry.get()\n",
        "        if word in self.words:\n",
        "            self.words[word] = definition\n",
        "            self.refresh_words_listbox()\n",
        "            self.word_entry.delete(0, tk.END)\n",
        "            self.definition_entry.delete(0, tk.END)\n",
        "        else:\n",
        "            messagebox.showinfo(\"경고\", \"업데이트할 단어를 찾을 수 없습니다.\")\n",
        "\n",
        "    def refresh_words_listbox(self):\n",
        "        self.words_listbox.delete(0, tk.END)\n",
        "        for word, definition in self.words.items():\n",
        "            self.words_listbox.insert(tk.END, f\"{word}: {definition}\")\n",
        "\n",
        "if __name__ == \"__main__\":\n",
        "    root = tk.Tk()\n",
        "    app = WordManager(root)\n",
        "    root.mainloop()\n",
        "\n"
      ],
      "metadata": {
        "id": "FMHZrez-wT4r"
      },
      "execution_count": null,
      "outputs": []
    }
  ]
}